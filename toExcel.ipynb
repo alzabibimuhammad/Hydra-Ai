{
 "cells": [
  {
   "cell_type": "code",
   "execution_count": 2,
   "metadata": {},
   "outputs": [],
   "source": [
    "import os \n",
    "import pandas as pd\n",
    "import json"
   ]
  },
  {
   "cell_type": "code",
   "execution_count": 3,
   "metadata": {},
   "outputs": [],
   "source": [
    "# first 50 not for sale sentances\n",
    "\n",
    "sentences = [\n",
    "    \"I find comfort in wearing oversized sweaters on chilly days.\",\n",
    "    \"I appreciate the elegance of a well-tailored suit.\",\n",
    "    \"I love the feeling of slipping into a soft, worn-in pair of jeans.\",\n",
    "    \"I enjoy the versatility of a classic white button-down shirt.\",\n",
    "    \"I'm always on the lookout for unique vintage finds at thrift stores.\",\n",
    "    \"I have a collection of scarves from my travels around the world.\",\n",
    "    \"I feel nostalgic when I wear my favorite band t-shirt from high school.\",\n",
    "    \"I find inspiration for my outfits from fashion bloggers on social media.\",\n",
    "    \"I love the confidence boost that comes from wearing a killer pair of heels.\",\n",
    "    \"I believe that fashion should be a form of self-expression and creativity.\",\n",
    "    \"I feel most like myself when I'm dressed in comfortable athleisure wear.\",\n",
    "    \"I appreciate the craftsmanship of handmade jewelry pieces.\",\n",
    "    \"I find joy in wearing bright, colorful patterns during the summertime.\",\n",
    "    \"I enjoy the process of mixing and matching different pieces to create unique outfits.\",\n",
    "    \"I'm drawn to clothing with unique embellishments and details.\",\n",
    "    \"I love the feeling of slipping into a cozy hoodie after a long day.\",\n",
    "    \"I find inspiration for my outfits from old Hollywood glamour.\",\n",
    "    \"I enjoy the confidence boost that comes from wearing a well-fitted blazer.\",\n",
    "    \"I believe that fashion is a way to connect with others and express shared interests.\",\n",
    "    \"I love the simplicity and elegance of a little black dress.\",\n",
    "    \"I enjoy experimenting with bold makeup looks to complement my outfits.\",\n",
    "    \"I believe that everyone deserves to feel beautiful and confident in what they wear.\",\n",
    "    \"I'm inspired by nature's colors when choosing my wardrobe palette.\",\n",
    "    \"I love the feeling of wearing a flowy sundress on a warm summer day.\",\n",
    "    \"I appreciate the versatility of a classic trench coat for transitional weather.\",\n",
    "    \"I find comfort in wearing soft, breathable fabrics during the summer months.\",\n",
    "    \"I enjoy the challenge of thrift shopping and finding hidden gems.\",\n",
    "    \"I love the freedom of expression that comes with personal style.\",\n",
    "    \"I feel empowered when I wear bold, statement jewelry pieces.\",\n",
    "    \"I believe that fashion is an art form that allows us to express our individuality.\",\n",
    "    \"I enjoy experimenting with different hairstyles to complement my outfits.\",\n",
    "    \"I feel a sense of nostalgia when I wear clothing that reminds me of my childhood.\",\n",
    "    \"I appreciate the cultural significance of traditional clothing from around the world.\",\n",
    "    \"I'm inspired by the glamour and sophistication of old Hollywood movies.\",\n",
    "    \"I love the feeling of wearing a cozy sweater on a crisp autumn day.\",\n",
    "    \"I enjoy the process of curating a capsule wardrobe of timeless pieces.\",\n",
    "    \"I believe that fashion should be accessible to people of all shapes, sizes, and backgrounds.\",\n",
    "    \"I feel a sense of pride when I wear clothing that represents my cultural heritage.\",\n",
    "    \"I love the confidence boost that comes from wearing a well-fitted pair of jeans.\",\n",
    "    \"I enjoy the challenge of thrift shopping and finding unique, one-of-a-kind pieces.\",\n",
    "    \"I appreciate the functionality of clothing that allows me to move freely and comfortably.\",\n",
    "    \"I'm inspired by the fashion evolution of different decades and time periods.\",\n",
    "    \"I find joy in experimenting with different fashion trends and styles.\",\n",
    "    \"I love the feeling of wearing a flowy skirt that twirls around me as I walk.\",\n",
    "    \"I believe that fashion should be a reflection of our values and beliefs.\",\n",
    "    \"I enjoy the sense of community that comes from sharing outfit inspiration with others.\",\n",
    "    \"I'm inspired by the creativity and innovation of emerging fashion designers.\",\n",
    "    \"I appreciate the craftsmanship and attention to detail in handmade clothing.\",\n",
    "    \"I love the feeling of slipping into a cozy pair of pajamas after a long day.\",\n",
    "    \"I believe that fashion is a form of self-care and self-expression.\"\n",
    "]\n"
   ]
  },
  {
   "cell_type": "code",
   "execution_count": 6,
   "metadata": {},
   "outputs": [
    {
     "name": "stdout",
     "output_type": "stream",
     "text": [
      "CSV file saved to desktop.\n"
     ]
    }
   ],
   "source": [
    "\n",
    "# Creating objects with \"sentence\" and \"type\" keys\n",
    "objects = [{\"sentence\": sentence, \"type\": \"not sale\"} for sentence in sentences]\n",
    "\n",
    "# Specify the path to the desktop directory\n",
    "desktop_path = os.path.join(os.path.join(os.environ['USERPROFILE']), 'Desktop')\n",
    "output_file_path = os.path.join(desktop_path, 'output.csv')\n",
    "\n",
    "# Dumping the objects to JSON file\n",
    "with open(\"output.json\", \"w\") as f:\n",
    "    json.dump(objects, f, indent=1)\n",
    "\n",
    "# Loading JSON file into DataFrame\n",
    "data = pd.read_json(\"output.json\")\n",
    "\n",
    "# Saving DataFrame to CSV file\n",
    "data.to_csv(output_file_path, index=False)\n",
    "\n",
    "print(\"CSV file saved to desktop.\")"
   ]
  },
  {
   "cell_type": "code",
   "execution_count": 7,
   "metadata": {},
   "outputs": [],
   "source": [
    "new_sentences = [\n",
    "\"Get ready to revamp your wardrobe! Our latest collection of trendy outfits is now available. Hurry up and grab your favorites!\",\n",
    "\n",
    "\"Looking for the perfect outfit to make a statement? Explore our new arrivals and discover your style!\",\n",
    "\n",
    "\"Upgrade your closet with our chic and affordable fashion pieces. Shop now and slay all day!\",\n",
    "\n",
    "\"From casual to formal, we've got you covered! Explore our diverse range of clothing options for every occasion.\",\n",
    "\n",
    "\"Step into the new season in style! Check out our exclusive deals on the latest fashion trends.\",\n",
    "\n",
    "\"Dress to impress without breaking the bank! Enjoy unbeatable prices on our high-quality clothing items.\",\n",
    "\n",
    "\"Elevate your everyday look with our stylish essentials. Shop now and stay ahead of the fashion game!\",\n",
    "\n",
    "\"Calling all fashionistas! Don't miss out on our limited-time offer. Shop now and unleash your inner diva!\",\n",
    "\n",
    "\"Discover the perfect blend of comfort and style with our collection of premium fabrics and trendy designs.\",\n",
    "\n",
    "\"Fashion-forward and budget-friendly? Yes, it's possible! Explore our selection of must-have pieces at affordable prices.\",\n",
    "\n",
    "\"Attention, trendsetters! Get your hands on the hottest fashion picks of the season before they're gone.\",\n",
    "\n",
    "\"Say hello to effortless style! Our curated collections make it easy to look fabulous every day.\",\n",
    "\n",
    "\"Wardrobe in need of a refresh? Look no further! Explore our latest arrivals and redefine your style.\",\n",
    "\n",
    "\"Unleash your inner fashion icon with our curated selection of statement pieces and wardrobe essentials.\",\n",
    "\n",
    "\"From cozy knits to sleek silhouettes, find everything you need to create the perfect outfit ensemble.\",\n",
    "\n",
    "\"Upgrade your street style game with our urban-inspired fashion pieces. Shop now and stand out from the crowd.\",\n",
    "\n",
    "\"Ready for a wardrobe makeover? Explore our versatile collection and transform your look today!\",\n",
    "\n",
    "\"Fashion is what you make it! Express yourself with our diverse range of clothing options tailored to fit your unique style.\",\n",
    "\n",
    "\"Life's too short to wear boring clothes! Spice up your wardrobe with our bold and vibrant fashion choices.\",\n",
    "\n",
    "\"Why blend in when you were born to stand out? Discover your signature style with our curated collection of fashion-forward pieces.\",\n",
    "]"
   ]
  },
  {
   "cell_type": "code",
   "execution_count": 8,
   "metadata": {},
   "outputs": [
    {
     "name": "stdout",
     "output_type": "stream",
     "text": [
      "CSV file updated with new sentences.\n"
     ]
    }
   ],
   "source": [
    "\n",
    "# Adding 50 sale sentace\n",
    "desktop_path = os.path.join(os.path.join(os.environ['USERPROFILE']), 'Desktop')\n",
    "input_file_path = os.path.join(desktop_path, 'output.csv')\n",
    "\n",
    "\n",
    "\n",
    "# Load existing data from the CSV file\n",
    "try:\n",
    "    existing_data = pd.read_csv(input_file_path)\n",
    "except FileNotFoundError:\n",
    "    existing_data = pd.DataFrame(columns=[\"sentence\", \"type\"])  # Create empty DataFrame if file doesn't exist\n",
    "\n",
    "# Append new sentences to existing data\n",
    "new_data = pd.DataFrame([{\"sentence\": sentence, \"type\": \"sale\"} for sentence in new_sentences])\n",
    "updated_data = pd.concat([existing_data, new_data], ignore_index=True)\n",
    "\n",
    "# Save updated data back to the CSV file\n",
    "updated_data.to_csv(input_file_path, index=False)\n",
    "\n",
    "print(\"CSV file updated with new sentences.\")"
   ]
  },
  {
   "cell_type": "code",
   "execution_count": null,
   "metadata": {},
   "outputs": [],
   "source": []
  }
 ],
 "metadata": {
  "kernelspec": {
   "display_name": "base",
   "language": "python",
   "name": "python3"
  },
  "language_info": {
   "codemirror_mode": {
    "name": "ipython",
    "version": 3
   },
   "file_extension": ".py",
   "mimetype": "text/x-python",
   "name": "python",
   "nbconvert_exporter": "python",
   "pygments_lexer": "ipython3",
   "version": "3.9.13"
  }
 },
 "nbformat": 4,
 "nbformat_minor": 2
}
